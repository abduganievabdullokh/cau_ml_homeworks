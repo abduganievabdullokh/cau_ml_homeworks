{
  "nbformat": 4,
  "nbformat_minor": 0,
  "metadata": {
    "colab": {
      "provenance": [],
      "include_colab_link": true
    },
    "kernelspec": {
      "name": "python3",
      "display_name": "Python 3"
    },
    "language_info": {
      "name": "python"
    }
  },
  "cells": [
    {
      "cell_type": "markdown",
      "metadata": {
        "id": "view-in-github",
        "colab_type": "text"
      },
      "source": [
        "<a href=\"https://colab.research.google.com/github/abduganievabdullokh/cau_ml_homeworks/blob/main/abdu.ipynb\" target=\"_parent\"><img src=\"https://colab.research.google.com/assets/colab-badge.svg\" alt=\"Open In Colab\"/></a>"
      ]
    },
    {
      "cell_type": "markdown",
      "source": [
        "###***Abduganiev Abdullokh 210076***"
      ],
      "metadata": {
        "id": "DNh5cwBjmOB3"
      }
    },
    {
      "cell_type": "markdown",
      "source": [
        "#**ML Final kaggle competition**"
      ],
      "metadata": {
        "id": "acFaNZF7AIaD"
      }
    },
    {
      "cell_type": "markdown",
      "source": [
        "#Importing Libraries and Train Data"
      ],
      "metadata": {
        "id": "o0YkAuVcAQHx"
      }
    },
    {
      "cell_type": "code",
      "execution_count": null,
      "metadata": {
        "id": "X5hfrkb0MexM"
      },
      "outputs": [],
      "source": [
        "import numpy as np\n",
        "import pandas as pd\n",
        "# import seaborn as sns\n",
        "import matplotlib.pyplot as plt\n",
        "from sklearn.model_selection import train_test_split\n",
        "from sklearn.preprocessing import StandardScaler, MinMaxScaler\n",
        "from sklearn.linear_model import LogisticRegression\n",
        "from sklearn import metrics\n",
        "from sklearn.metrics import accuracy_score, classification_report, confusion_matrix\n",
        "pd.set_option('display.max_columns',None)\n",
        "# from sklearn.neighbors import KNeighborsClassifier\n",
        "# from sklearn.svm import SVC\n",
        "# from sklearn.tree import DecisionTreeClassifier\n",
        "from sklearn.ensemble import RandomForestClassifier\n",
        "import xgboost as xgb\n",
        "# from sklearn.datasets import load_iris"
      ]
    },
    {
      "cell_type": "code",
      "source": [
        "df = pd.read_csv('/content/kaggle_train_data_public.csv')"
      ],
      "metadata": {
        "id": "swTZGSSAMkhi"
      },
      "execution_count": null,
      "outputs": []
    },
    {
      "cell_type": "markdown",
      "source": [
        "#Train Data preparation"
      ],
      "metadata": {
        "id": "CMIDpcnLAco5"
      }
    },
    {
      "cell_type": "markdown",
      "source": [
        "## **Dropping the unneccesary columns**"
      ],
      "metadata": {
        "id": "GN2wuo8Ncouk"
      }
    },
    {
      "cell_type": "code",
      "source": [
        "df = df.drop(['CustomerID','Senior Citizen','State', 'City','Count', 'Country', 'Zip Code', 'Lat Long', 'Latitude','Longitude','Churn Score','CLTV','Churn Reason'],axis=1)"
      ],
      "metadata": {
        "id": "8WsE2rOEM_Fu"
      },
      "execution_count": null,
      "outputs": []
    },
    {
      "cell_type": "markdown",
      "source": [
        "##Converting 'Yes', 'No' into 1s and 0s"
      ],
      "metadata": {
        "id": "WgzDID38cufN"
      }
    },
    {
      "cell_type": "code",
      "source": [
        "df[\"Gender\"] = (df[\"Gender\"] == \"Male\").astype(int)\n",
        "df[\"Partner\"] = (df[\"Partner\"] == \"Yes\").astype(int)\n",
        "df[\"Dependents\"] = (df[\"Dependents\"] == \"Yes\").astype(int)\n",
        "df[\"Phone Service\"] = (df[\"Phone Service\"] == \"Yes\").astype(int)\n",
        "df[\"Multiple Lines\"] = (df[\"Multiple Lines\"] == \"Yes\").astype(int)\n",
        "df[\"Paperless Billing\"] = (df[\"Paperless Billing\"] == \"Yes\").astype(int)"
      ],
      "metadata": {
        "id": "223z7yPxSy4i"
      },
      "execution_count": null,
      "outputs": []
    },
    {
      "cell_type": "markdown",
      "source": [
        "##Converting 'Yes', 'No', 'No Network' into 1s and 0s"
      ],
      "metadata": {
        "id": "6TyBp2Vic3QO"
      }
    },
    {
      "cell_type": "code",
      "source": [
        "df = pd.get_dummies(df, drop_first=True)"
      ],
      "metadata": {
        "id": "PCs_XOC2S4rU"
      },
      "execution_count": null,
      "outputs": []
    },
    {
      "cell_type": "markdown",
      "source": [
        "##**Making big decimal numbers look alike 1 and 0s**"
      ],
      "metadata": {
        "id": "BjWmH2UAdEO6"
      }
    },
    {
      "cell_type": "code",
      "source": [
        "scaler = MinMaxScaler()\n",
        "scaler.fit(df[['Tenure Months', 'Monthly Charges']])\n",
        "df[['Tenure Months', 'Monthly Charges']] = scaler.transform(df[['Tenure Months', 'Monthly Charges']])"
      ],
      "metadata": {
        "id": "Dp_H5YXXTT0x"
      },
      "execution_count": null,
      "outputs": []
    },
    {
      "cell_type": "markdown",
      "source": [
        "#**Test data Preparation**"
      ],
      "metadata": {
        "id": "kVnM8k-7BSZS"
      }
    },
    {
      "cell_type": "code",
      "source": [
        "df_test = pd.read_csv('/content/kaggle_test_features_public.csv')"
      ],
      "metadata": {
        "id": "UAnDbe2pAOWJ"
      },
      "execution_count": null,
      "outputs": []
    },
    {
      "cell_type": "markdown",
      "source": [
        "##**Dropping columns of test data**"
      ],
      "metadata": {
        "id": "1jHny8Ucd-HL"
      }
    },
    {
      "cell_type": "code",
      "source": [
        "df_test = df_test.drop(['CustomerID','Senior Citizen','State', 'City','Count', 'Country', 'Zip Code', 'Lat Long', 'Latitude','Longitude'],axis=1)"
      ],
      "metadata": {
        "id": "1TXxttF-Dp2M"
      },
      "execution_count": null,
      "outputs": []
    },
    {
      "cell_type": "markdown",
      "source": [
        "##**Converting 'Yes', 'No' into 1s and 0s**"
      ],
      "metadata": {
        "id": "RhQSg1UDBadQ"
      }
    },
    {
      "cell_type": "code",
      "source": [
        "df_test[\"Gender\"] = (df_test[\"Gender\"] == \"Male\").astype(int)\n",
        "df_test[\"Partner\"] = (df_test[\"Partner\"] == \"Yes\").astype(int)\n",
        "df_test[\"Dependents\"] = (df_test[\"Dependents\"] == \"Yes\").astype(int)\n",
        "df_test[\"Phone Service\"] = (df_test[\"Phone Service\"] == \"Yes\").astype(int)\n",
        "df_test[\"Multiple Lines\"] = (df_test[\"Multiple Lines\"] == \"Yes\").astype(int)\n",
        "df_test[\"Paperless Billing\"] = (df_test[\"Paperless Billing\"] == \"Yes\").astype(int)"
      ],
      "metadata": {
        "id": "LPP-TX0vD7Vi"
      },
      "execution_count": null,
      "outputs": []
    },
    {
      "cell_type": "markdown",
      "source": [],
      "metadata": {
        "id": "EuvnJQaQCKrO"
      }
    },
    {
      "cell_type": "markdown",
      "source": [
        "##**Converting 'Yes', 'No', 'No Network' into 1s and 0s**"
      ],
      "metadata": {
        "id": "OgiRnncKCMfx"
      }
    },
    {
      "cell_type": "code",
      "source": [
        "df_test = pd.get_dummies(df_test, drop_first=True)"
      ],
      "metadata": {
        "id": "bfn67f4fFEvq"
      },
      "execution_count": null,
      "outputs": []
    },
    {
      "cell_type": "markdown",
      "source": [
        "##**Minimizing big decimals**"
      ],
      "metadata": {
        "id": "4BbPcQYcCV53"
      }
    },
    {
      "cell_type": "code",
      "source": [
        "scaler = MinMaxScaler()\n",
        "scaler.fit(df_test[['Tenure Months', 'Monthly Charges']])\n",
        "df_test[['Tenure Months', 'Monthly Charges']] = scaler.transform(df_test[['Tenure Months', 'Monthly Charges']])"
      ],
      "metadata": {
        "id": "zwVf_KsbFqyp"
      },
      "execution_count": null,
      "outputs": []
    },
    {
      "cell_type": "code",
      "source": [
        "y = df['Churn Value']\n",
        "X = df.drop(['Churn Value'], axis = 1)"
      ],
      "metadata": {
        "id": "dEs61q0EF2We"
      },
      "execution_count": null,
      "outputs": []
    },
    {
      "cell_type": "markdown",
      "source": [
        "#**Splitting the data train, test**"
      ],
      "metadata": {
        "id": "bhFzmS4nSktf"
      }
    },
    {
      "cell_type": "code",
      "source": [
        "X_train, X_test, y_train, y_test = train_test_split(X, y, test_size=0.21, random_state=100)"
      ],
      "metadata": {
        "id": "ClFq0WYmGUd9"
      },
      "execution_count": null,
      "outputs": []
    },
    {
      "cell_type": "markdown",
      "source": [
        "#**Splitting the data valid, train, test**"
      ],
      "metadata": {
        "id": "wr6fcF1JYaPJ"
      }
    },
    {
      "cell_type": "code",
      "source": [
        "# train, valid, test = ntrain, valid, test = np.split(df.sample(frac=1), [int(0.6*len(df)), int(0.8*len(df))])p.split(df.sample(frac=1), [int(0.6*len(df)), int(0.8*len(df))])"
      ],
      "metadata": {
        "id": "iXzv9hXzYZXd"
      },
      "execution_count": null,
      "outputs": []
    },
    {
      "cell_type": "markdown",
      "source": [
        "#**Logistic Regression**"
      ],
      "metadata": {
        "id": "EtS0-1XuTN6I"
      }
    },
    {
      "cell_type": "code",
      "source": [
        "logmodel = LogisticRegression(random_state=100)\n",
        "logmodel.fit(X_train,y_train)"
      ],
      "metadata": {
        "id": "uA_Chj0NHxNO",
        "colab": {
          "base_uri": "https://localhost:8080/",
          "height": 75
        },
        "outputId": "0ec85006-e7ca-4e3c-f4d7-1ddc833f8634"
      },
      "execution_count": null,
      "outputs": [
        {
          "output_type": "execute_result",
          "data": {
            "text/plain": [
              "LogisticRegression(random_state=100)"
            ],
            "text/html": [
              "<style>#sk-container-id-3 {color: black;background-color: white;}#sk-container-id-3 pre{padding: 0;}#sk-container-id-3 div.sk-toggleable {background-color: white;}#sk-container-id-3 label.sk-toggleable__label {cursor: pointer;display: block;width: 100%;margin-bottom: 0;padding: 0.3em;box-sizing: border-box;text-align: center;}#sk-container-id-3 label.sk-toggleable__label-arrow:before {content: \"▸\";float: left;margin-right: 0.25em;color: #696969;}#sk-container-id-3 label.sk-toggleable__label-arrow:hover:before {color: black;}#sk-container-id-3 div.sk-estimator:hover label.sk-toggleable__label-arrow:before {color: black;}#sk-container-id-3 div.sk-toggleable__content {max-height: 0;max-width: 0;overflow: hidden;text-align: left;background-color: #f0f8ff;}#sk-container-id-3 div.sk-toggleable__content pre {margin: 0.2em;color: black;border-radius: 0.25em;background-color: #f0f8ff;}#sk-container-id-3 input.sk-toggleable__control:checked~div.sk-toggleable__content {max-height: 200px;max-width: 100%;overflow: auto;}#sk-container-id-3 input.sk-toggleable__control:checked~label.sk-toggleable__label-arrow:before {content: \"▾\";}#sk-container-id-3 div.sk-estimator input.sk-toggleable__control:checked~label.sk-toggleable__label {background-color: #d4ebff;}#sk-container-id-3 div.sk-label input.sk-toggleable__control:checked~label.sk-toggleable__label {background-color: #d4ebff;}#sk-container-id-3 input.sk-hidden--visually {border: 0;clip: rect(1px 1px 1px 1px);clip: rect(1px, 1px, 1px, 1px);height: 1px;margin: -1px;overflow: hidden;padding: 0;position: absolute;width: 1px;}#sk-container-id-3 div.sk-estimator {font-family: monospace;background-color: #f0f8ff;border: 1px dotted black;border-radius: 0.25em;box-sizing: border-box;margin-bottom: 0.5em;}#sk-container-id-3 div.sk-estimator:hover {background-color: #d4ebff;}#sk-container-id-3 div.sk-parallel-item::after {content: \"\";width: 100%;border-bottom: 1px solid gray;flex-grow: 1;}#sk-container-id-3 div.sk-label:hover label.sk-toggleable__label {background-color: #d4ebff;}#sk-container-id-3 div.sk-serial::before {content: \"\";position: absolute;border-left: 1px solid gray;box-sizing: border-box;top: 0;bottom: 0;left: 50%;z-index: 0;}#sk-container-id-3 div.sk-serial {display: flex;flex-direction: column;align-items: center;background-color: white;padding-right: 0.2em;padding-left: 0.2em;position: relative;}#sk-container-id-3 div.sk-item {position: relative;z-index: 1;}#sk-container-id-3 div.sk-parallel {display: flex;align-items: stretch;justify-content: center;background-color: white;position: relative;}#sk-container-id-3 div.sk-item::before, #sk-container-id-3 div.sk-parallel-item::before {content: \"\";position: absolute;border-left: 1px solid gray;box-sizing: border-box;top: 0;bottom: 0;left: 50%;z-index: -1;}#sk-container-id-3 div.sk-parallel-item {display: flex;flex-direction: column;z-index: 1;position: relative;background-color: white;}#sk-container-id-3 div.sk-parallel-item:first-child::after {align-self: flex-end;width: 50%;}#sk-container-id-3 div.sk-parallel-item:last-child::after {align-self: flex-start;width: 50%;}#sk-container-id-3 div.sk-parallel-item:only-child::after {width: 0;}#sk-container-id-3 div.sk-dashed-wrapped {border: 1px dashed gray;margin: 0 0.4em 0.5em 0.4em;box-sizing: border-box;padding-bottom: 0.4em;background-color: white;}#sk-container-id-3 div.sk-label label {font-family: monospace;font-weight: bold;display: inline-block;line-height: 1.2em;}#sk-container-id-3 div.sk-label-container {text-align: center;}#sk-container-id-3 div.sk-container {/* jupyter's `normalize.less` sets `[hidden] { display: none; }` but bootstrap.min.css set `[hidden] { display: none !important; }` so we also need the `!important` here to be able to override the default hidden behavior on the sphinx rendered scikit-learn.org. See: https://github.com/scikit-learn/scikit-learn/issues/21755 */display: inline-block !important;position: relative;}#sk-container-id-3 div.sk-text-repr-fallback {display: none;}</style><div id=\"sk-container-id-3\" class=\"sk-top-container\"><div class=\"sk-text-repr-fallback\"><pre>LogisticRegression(random_state=100)</pre><b>In a Jupyter environment, please rerun this cell to show the HTML representation or trust the notebook. <br />On GitHub, the HTML representation is unable to render, please try loading this page with nbviewer.org.</b></div><div class=\"sk-container\" hidden><div class=\"sk-item\"><div class=\"sk-estimator sk-toggleable\"><input class=\"sk-toggleable__control sk-hidden--visually\" id=\"sk-estimator-id-3\" type=\"checkbox\" checked><label for=\"sk-estimator-id-3\" class=\"sk-toggleable__label sk-toggleable__label-arrow\">LogisticRegression</label><div class=\"sk-toggleable__content\"><pre>LogisticRegression(random_state=100)</pre></div></div></div></div></div>"
            ]
          },
          "metadata": {},
          "execution_count": 59
        }
      ]
    },
    {
      "cell_type": "markdown",
      "source": [
        "#XGBoost Classifier"
      ],
      "metadata": {
        "id": "CnUYm7w9TbU7"
      }
    },
    {
      "cell_type": "code",
      "source": [
        "# model = xgb.XGBClassifier()\n",
        "# model.fit(X_train, y_train)\n",
        "# predictions = model.predict(X_test)"
      ],
      "metadata": {
        "id": "8gQKqy9iThoN"
      },
      "execution_count": null,
      "outputs": []
    },
    {
      "cell_type": "markdown",
      "source": [
        "#Random Forest Classifier"
      ],
      "metadata": {
        "id": "dpuVcEXRTT4x"
      }
    },
    {
      "cell_type": "code",
      "source": [
        "# rfmodel = RandomForestClassifier(n_estimators = 100, criterion = 'entropy', random_state = 100)\n",
        "# rfmodel.fit(X_train, y_train)"
      ],
      "metadata": {
        "id": "ojTSR22-YrQg"
      },
      "execution_count": null,
      "outputs": []
    },
    {
      "cell_type": "code",
      "source": [
        "pred = logmodel.predict_proba(df_test)"
      ],
      "metadata": {
        "id": "HCZb7F30RKko"
      },
      "execution_count": null,
      "outputs": []
    },
    {
      "cell_type": "code",
      "source": [
        "results_df = pd.DataFrame({\"ID\": range(len(df_test)),\"Churn Value\": pred[:, 1]})"
      ],
      "metadata": {
        "id": "qqIwEq8WLnL4"
      },
      "execution_count": null,
      "outputs": []
    },
    {
      "cell_type": "code",
      "source": [
        "results_df.to_csv('log99.csv', index=False)"
      ],
      "metadata": {
        "id": "TpAHz4Z7K0rQ"
      },
      "execution_count": null,
      "outputs": []
    },
    {
      "cell_type": "code",
      "source": [
        "from sklearn.metrics import accuracy_score\n",
        "\n",
        "# Assuming 'predicted_labels' are your model's predictions and 'actual_labels' are the true labels\n",
        "accuracy = accuracy_score(y_test, logmodel.predict(X_test))\n",
        "\n",
        "print(\"Accuracy:{:.2%}\".format(accuracy))\n",
        "\n"
      ],
      "metadata": {
        "id": "9BToLsWyqkHp",
        "colab": {
          "base_uri": "https://localhost:8080/"
        },
        "outputId": "eeccd525-e314-433d-dc84-6069e2dcf545"
      },
      "execution_count": null,
      "outputs": [
        {
          "output_type": "stream",
          "name": "stdout",
          "text": [
            "Accuracy:84.08%\n"
          ]
        }
      ]
    },
    {
      "cell_type": "code",
      "source": [
        "logmodel.score(X_test, y_test)"
      ],
      "metadata": {
        "id": "XX9cRcBceOnQ",
        "colab": {
          "base_uri": "https://localhost:8080/"
        },
        "outputId": "e68fdf12-f9be-4e1a-b3e3-ea7535eb1fa8"
      },
      "execution_count": null,
      "outputs": [
        {
          "output_type": "execute_result",
          "data": {
            "text/plain": [
              "0.8407720144752714"
            ]
          },
          "metadata": {},
          "execution_count": 66
        }
      ]
    },
    {
      "cell_type": "code",
      "source": [
        "from google.colab import drive\n",
        "drive.mount('/content/drive')\n"
      ],
      "metadata": {
        "colab": {
          "base_uri": "https://localhost:8080/"
        },
        "id": "xj0SZ0BOn56b",
        "outputId": "cc6b0b58-2c5a-48de-ef5b-55b47429018d"
      },
      "execution_count": null,
      "outputs": [
        {
          "output_type": "stream",
          "name": "stdout",
          "text": [
            "Mounted at /content/drive\n"
          ]
        }
      ]
    }
  ]
}